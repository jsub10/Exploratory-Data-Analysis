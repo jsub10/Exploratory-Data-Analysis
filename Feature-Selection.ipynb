{
 "cells": [
  {
   "cell_type": "markdown",
   "metadata": {},
   "source": [
    "# Exploring a Direct-Marketing Dataset - Feature Selection\n",
    "### (Uses code snippets and ideas from Kevin L. Davenport, Sebastian Raschka, and Jason Brownlee)"
   ]
  },
  {
   "cell_type": "markdown",
   "metadata": {},
   "source": [
    "## Looking at the Dataset as a Whole\n",
    "\n",
    "In the notebook titled \"Exploratory-Data-Analysis\" we looked at some methods for making sense of the dataset. We could try out various simple hypotheses and literally see if the data would bear them out. To make this exploration more precise we'll have to answer the usual pesky questions of estimates and error and p-value and confidence level, and so on. \n",
    "\n",
    "And of course, when the number of features are in the 1000s or even in the millions -- quite typical for datasets used in machine learning -- it becomes untenable to do the kind of exploratory data analysis we did above.\n",
    "\n",
    "Can we do better? Can we get away from the assumptions we need to get these types of estimates? Can we wrap our heads around the the *complete* dataset?\n",
    "\n",
    "So we'll have to use different techniques to make sense of whether and how the features are together related to each other.\n",
    "\n",
    "We can, but first we need to clean up the data and convert the categorical variables to numeric scales."
   ]
  },
  {
   "cell_type": "code",
   "execution_count": 2,
   "metadata": {
    "collapsed": false
   },
   "outputs": [],
   "source": [
    "# Import packages\n",
    "import os\n",
    "import time\n",
    "import csv\n",
    "import pickle\n",
    "import random\n",
    "import numpy as np\n",
    "import pandas as pd\n",
    "import matplotlib.pyplot as plt\n",
    "import seaborn as sns\n",
    "from functools import wraps\n",
    "from matplotlib.font_manager import FontProperties\n",
    "from scipy import interp\n",
    "from tabulate import tabulate"
   ]
  },
  {
   "cell_type": "code",
   "execution_count": 3,
   "metadata": {
    "collapsed": true
   },
   "outputs": [],
   "source": [
    "# Import SciKit Learn packages\n",
    "from sklearn import model_selection #where the cross_validation and learning_curve modules live\n",
    "from sklearn import neighbors\n",
    "from sklearn import preprocessing\n",
    "from sklearn import tree\n",
    "from sklearn import svm\n",
    "from sklearn.ensemble import AdaBoostClassifier\n",
    "from sklearn.metrics import roc_curve, auc, precision_score, recall_score\n",
    "from sklearn.metrics import confusion_matrix\n",
    "from sklearn.decomposition import PCA"
   ]
  },
  {
   "cell_type": "code",
   "execution_count": 4,
   "metadata": {
    "collapsed": true
   },
   "outputs": [],
   "source": [
    "%matplotlib inline"
   ]
  },
  {
   "cell_type": "code",
   "execution_count": 5,
   "metadata": {
    "collapsed": false
   },
   "outputs": [
    {
     "data": {
      "text/html": [
       "<!-- make markdown table pretty -->\n",
       "<style>table {float:left}</style>"
      ],
      "text/plain": [
       "<IPython.core.display.HTML object>"
      ]
     },
     "metadata": {},
     "output_type": "display_data"
    }
   ],
   "source": [
    "%%html\n",
    "<!-- make markdown table pretty -->\n",
    "<style>table {float:left}</style>"
   ]
  },
  {
   "cell_type": "markdown",
   "metadata": {},
   "source": [
    "## Get the Already Pre-Processed Data"
   ]
  },
  {
   "cell_type": "code",
   "execution_count": 6,
   "metadata": {
    "collapsed": false
   },
   "outputs": [
    {
     "data": {
      "text/html": [
       "<div>\n",
       "<table border=\"1\" class=\"dataframe\">\n",
       "  <thead>\n",
       "    <tr style=\"text-align: right;\">\n",
       "      <th></th>\n",
       "      <th>age</th>\n",
       "      <th>job</th>\n",
       "      <th>marital</th>\n",
       "      <th>education</th>\n",
       "      <th>default</th>\n",
       "      <th>housing</th>\n",
       "      <th>loan</th>\n",
       "      <th>contact</th>\n",
       "      <th>month</th>\n",
       "      <th>day_of_week</th>\n",
       "      <th>...</th>\n",
       "      <th>campaign</th>\n",
       "      <th>pdays</th>\n",
       "      <th>previous</th>\n",
       "      <th>poutcome</th>\n",
       "      <th>emp_var_rate</th>\n",
       "      <th>cons_price_idx</th>\n",
       "      <th>cons_conf_idx</th>\n",
       "      <th>euribor3m</th>\n",
       "      <th>nr_employed</th>\n",
       "      <th>y</th>\n",
       "    </tr>\n",
       "  </thead>\n",
       "  <tbody>\n",
       "    <tr>\n",
       "      <th>0</th>\n",
       "      <td>56</td>\n",
       "      <td>housemaid</td>\n",
       "      <td>married</td>\n",
       "      <td>basic.4y</td>\n",
       "      <td>no</td>\n",
       "      <td>no</td>\n",
       "      <td>no</td>\n",
       "      <td>telephone</td>\n",
       "      <td>may</td>\n",
       "      <td>mon</td>\n",
       "      <td>...</td>\n",
       "      <td>1</td>\n",
       "      <td>999</td>\n",
       "      <td>0</td>\n",
       "      <td>nonexistent</td>\n",
       "      <td>1.1</td>\n",
       "      <td>93.994</td>\n",
       "      <td>-36.4</td>\n",
       "      <td>4.857</td>\n",
       "      <td>5191.0</td>\n",
       "      <td>no</td>\n",
       "    </tr>\n",
       "    <tr>\n",
       "      <th>1</th>\n",
       "      <td>57</td>\n",
       "      <td>services</td>\n",
       "      <td>married</td>\n",
       "      <td>high.school</td>\n",
       "      <td>unknown</td>\n",
       "      <td>no</td>\n",
       "      <td>no</td>\n",
       "      <td>telephone</td>\n",
       "      <td>may</td>\n",
       "      <td>mon</td>\n",
       "      <td>...</td>\n",
       "      <td>1</td>\n",
       "      <td>999</td>\n",
       "      <td>0</td>\n",
       "      <td>nonexistent</td>\n",
       "      <td>1.1</td>\n",
       "      <td>93.994</td>\n",
       "      <td>-36.4</td>\n",
       "      <td>4.857</td>\n",
       "      <td>5191.0</td>\n",
       "      <td>no</td>\n",
       "    </tr>\n",
       "    <tr>\n",
       "      <th>2</th>\n",
       "      <td>37</td>\n",
       "      <td>services</td>\n",
       "      <td>married</td>\n",
       "      <td>high.school</td>\n",
       "      <td>no</td>\n",
       "      <td>yes</td>\n",
       "      <td>no</td>\n",
       "      <td>telephone</td>\n",
       "      <td>may</td>\n",
       "      <td>mon</td>\n",
       "      <td>...</td>\n",
       "      <td>1</td>\n",
       "      <td>999</td>\n",
       "      <td>0</td>\n",
       "      <td>nonexistent</td>\n",
       "      <td>1.1</td>\n",
       "      <td>93.994</td>\n",
       "      <td>-36.4</td>\n",
       "      <td>4.857</td>\n",
       "      <td>5191.0</td>\n",
       "      <td>no</td>\n",
       "    </tr>\n",
       "    <tr>\n",
       "      <th>3</th>\n",
       "      <td>40</td>\n",
       "      <td>admin.</td>\n",
       "      <td>married</td>\n",
       "      <td>basic.6y</td>\n",
       "      <td>no</td>\n",
       "      <td>no</td>\n",
       "      <td>no</td>\n",
       "      <td>telephone</td>\n",
       "      <td>may</td>\n",
       "      <td>mon</td>\n",
       "      <td>...</td>\n",
       "      <td>1</td>\n",
       "      <td>999</td>\n",
       "      <td>0</td>\n",
       "      <td>nonexistent</td>\n",
       "      <td>1.1</td>\n",
       "      <td>93.994</td>\n",
       "      <td>-36.4</td>\n",
       "      <td>4.857</td>\n",
       "      <td>5191.0</td>\n",
       "      <td>no</td>\n",
       "    </tr>\n",
       "    <tr>\n",
       "      <th>4</th>\n",
       "      <td>56</td>\n",
       "      <td>services</td>\n",
       "      <td>married</td>\n",
       "      <td>high.school</td>\n",
       "      <td>no</td>\n",
       "      <td>no</td>\n",
       "      <td>yes</td>\n",
       "      <td>telephone</td>\n",
       "      <td>may</td>\n",
       "      <td>mon</td>\n",
       "      <td>...</td>\n",
       "      <td>1</td>\n",
       "      <td>999</td>\n",
       "      <td>0</td>\n",
       "      <td>nonexistent</td>\n",
       "      <td>1.1</td>\n",
       "      <td>93.994</td>\n",
       "      <td>-36.4</td>\n",
       "      <td>4.857</td>\n",
       "      <td>5191.0</td>\n",
       "      <td>no</td>\n",
       "    </tr>\n",
       "  </tbody>\n",
       "</table>\n",
       "<p>5 rows × 21 columns</p>\n",
       "</div>"
      ],
      "text/plain": [
       "   age        job  marital    education  default housing loan    contact  \\\n",
       "0   56  housemaid  married     basic.4y       no      no   no  telephone   \n",
       "1   57   services  married  high.school  unknown      no   no  telephone   \n",
       "2   37   services  married  high.school       no     yes   no  telephone   \n",
       "3   40     admin.  married     basic.6y       no      no   no  telephone   \n",
       "4   56   services  married  high.school       no      no  yes  telephone   \n",
       "\n",
       "  month day_of_week ...  campaign  pdays  previous     poutcome emp_var_rate  \\\n",
       "0   may         mon ...         1    999         0  nonexistent          1.1   \n",
       "1   may         mon ...         1    999         0  nonexistent          1.1   \n",
       "2   may         mon ...         1    999         0  nonexistent          1.1   \n",
       "3   may         mon ...         1    999         0  nonexistent          1.1   \n",
       "4   may         mon ...         1    999         0  nonexistent          1.1   \n",
       "\n",
       "   cons_price_idx  cons_conf_idx  euribor3m  nr_employed   y  \n",
       "0          93.994          -36.4      4.857       5191.0  no  \n",
       "1          93.994          -36.4      4.857       5191.0  no  \n",
       "2          93.994          -36.4      4.857       5191.0  no  \n",
       "3          93.994          -36.4      4.857       5191.0  no  \n",
       "4          93.994          -36.4      4.857       5191.0  no  \n",
       "\n",
       "[5 rows x 21 columns]"
      ]
     },
     "execution_count": 6,
     "metadata": {},
     "output_type": "execute_result"
    }
   ],
   "source": [
    "# Get the dataframe that was pickled in the Exploratory-Data-Analysis notebook\n",
    "data = pd.read_pickle(os.getcwd() + '/Data/bank-additional/bank-additional-full_pickled')\n",
    "data.head()"
   ]
  },
  {
   "cell_type": "markdown",
   "metadata": {},
   "source": [
    "We know some things about this data already. From the brief analysis in the Exploratory-Data-Analysis notebook we could already make some reasoned decisions about dropping certain features from the dataset. In this notebook we'll go further by looking at a number of feature selection techniques."
   ]
  },
  {
   "cell_type": "markdown",
   "metadata": {},
   "source": [
    "## One-Hot Encoding\n",
    "\n",
    "So now let's handle the categorical attributes which all happen to be nominal variables -- i.e., they have no natural ordering or ranking.\n",
    "- job\n",
    "- marital\n",
    "- education\n",
    "- default\n",
    "- housing\n",
    "- loan\n",
    "- contact\n",
    "- month\n",
    "- day_of_week\n",
    "- poutcome\n",
    "\n",
    "When attributes are ordinal, we can use mapping or label encoding to turn the text attribute values into numerical attribute values. But when the attributes are nominal, it's best to use *one-hot encoding*."
   ]
  },
  {
   "cell_type": "code",
   "execution_count": 7,
   "metadata": {
    "collapsed": false
   },
   "outputs": [
    {
     "data": {
      "text/html": [
       "<div>\n",
       "<table border=\"1\" class=\"dataframe\">\n",
       "  <thead>\n",
       "    <tr style=\"text-align: right;\">\n",
       "      <th></th>\n",
       "      <th>age</th>\n",
       "      <th>duration</th>\n",
       "      <th>campaign</th>\n",
       "      <th>pdays</th>\n",
       "      <th>previous</th>\n",
       "      <th>emp_var_rate</th>\n",
       "      <th>cons_price_idx</th>\n",
       "      <th>cons_conf_idx</th>\n",
       "      <th>euribor3m</th>\n",
       "      <th>nr_employed</th>\n",
       "      <th>...</th>\n",
       "      <th>day_of_week_fri</th>\n",
       "      <th>day_of_week_mon</th>\n",
       "      <th>day_of_week_thu</th>\n",
       "      <th>day_of_week_tue</th>\n",
       "      <th>day_of_week_wed</th>\n",
       "      <th>poutcome_failure</th>\n",
       "      <th>poutcome_nonexistent</th>\n",
       "      <th>poutcome_success</th>\n",
       "      <th>y_no</th>\n",
       "      <th>y_yes</th>\n",
       "    </tr>\n",
       "  </thead>\n",
       "  <tbody>\n",
       "    <tr>\n",
       "      <th>0</th>\n",
       "      <td>56</td>\n",
       "      <td>261</td>\n",
       "      <td>1</td>\n",
       "      <td>999</td>\n",
       "      <td>0</td>\n",
       "      <td>1.1</td>\n",
       "      <td>93.994</td>\n",
       "      <td>-36.4</td>\n",
       "      <td>4.857</td>\n",
       "      <td>5191.0</td>\n",
       "      <td>...</td>\n",
       "      <td>0</td>\n",
       "      <td>1</td>\n",
       "      <td>0</td>\n",
       "      <td>0</td>\n",
       "      <td>0</td>\n",
       "      <td>0</td>\n",
       "      <td>1</td>\n",
       "      <td>0</td>\n",
       "      <td>1</td>\n",
       "      <td>0</td>\n",
       "    </tr>\n",
       "    <tr>\n",
       "      <th>1</th>\n",
       "      <td>57</td>\n",
       "      <td>149</td>\n",
       "      <td>1</td>\n",
       "      <td>999</td>\n",
       "      <td>0</td>\n",
       "      <td>1.1</td>\n",
       "      <td>93.994</td>\n",
       "      <td>-36.4</td>\n",
       "      <td>4.857</td>\n",
       "      <td>5191.0</td>\n",
       "      <td>...</td>\n",
       "      <td>0</td>\n",
       "      <td>1</td>\n",
       "      <td>0</td>\n",
       "      <td>0</td>\n",
       "      <td>0</td>\n",
       "      <td>0</td>\n",
       "      <td>1</td>\n",
       "      <td>0</td>\n",
       "      <td>1</td>\n",
       "      <td>0</td>\n",
       "    </tr>\n",
       "    <tr>\n",
       "      <th>2</th>\n",
       "      <td>37</td>\n",
       "      <td>226</td>\n",
       "      <td>1</td>\n",
       "      <td>999</td>\n",
       "      <td>0</td>\n",
       "      <td>1.1</td>\n",
       "      <td>93.994</td>\n",
       "      <td>-36.4</td>\n",
       "      <td>4.857</td>\n",
       "      <td>5191.0</td>\n",
       "      <td>...</td>\n",
       "      <td>0</td>\n",
       "      <td>1</td>\n",
       "      <td>0</td>\n",
       "      <td>0</td>\n",
       "      <td>0</td>\n",
       "      <td>0</td>\n",
       "      <td>1</td>\n",
       "      <td>0</td>\n",
       "      <td>1</td>\n",
       "      <td>0</td>\n",
       "    </tr>\n",
       "    <tr>\n",
       "      <th>3</th>\n",
       "      <td>40</td>\n",
       "      <td>151</td>\n",
       "      <td>1</td>\n",
       "      <td>999</td>\n",
       "      <td>0</td>\n",
       "      <td>1.1</td>\n",
       "      <td>93.994</td>\n",
       "      <td>-36.4</td>\n",
       "      <td>4.857</td>\n",
       "      <td>5191.0</td>\n",
       "      <td>...</td>\n",
       "      <td>0</td>\n",
       "      <td>1</td>\n",
       "      <td>0</td>\n",
       "      <td>0</td>\n",
       "      <td>0</td>\n",
       "      <td>0</td>\n",
       "      <td>1</td>\n",
       "      <td>0</td>\n",
       "      <td>1</td>\n",
       "      <td>0</td>\n",
       "    </tr>\n",
       "    <tr>\n",
       "      <th>4</th>\n",
       "      <td>56</td>\n",
       "      <td>307</td>\n",
       "      <td>1</td>\n",
       "      <td>999</td>\n",
       "      <td>0</td>\n",
       "      <td>1.1</td>\n",
       "      <td>93.994</td>\n",
       "      <td>-36.4</td>\n",
       "      <td>4.857</td>\n",
       "      <td>5191.0</td>\n",
       "      <td>...</td>\n",
       "      <td>0</td>\n",
       "      <td>1</td>\n",
       "      <td>0</td>\n",
       "      <td>0</td>\n",
       "      <td>0</td>\n",
       "      <td>0</td>\n",
       "      <td>1</td>\n",
       "      <td>0</td>\n",
       "      <td>1</td>\n",
       "      <td>0</td>\n",
       "    </tr>\n",
       "  </tbody>\n",
       "</table>\n",
       "<p>5 rows × 65 columns</p>\n",
       "</div>"
      ],
      "text/plain": [
       "   age  duration  campaign  pdays  previous  emp_var_rate  cons_price_idx  \\\n",
       "0   56       261         1    999         0           1.1          93.994   \n",
       "1   57       149         1    999         0           1.1          93.994   \n",
       "2   37       226         1    999         0           1.1          93.994   \n",
       "3   40       151         1    999         0           1.1          93.994   \n",
       "4   56       307         1    999         0           1.1          93.994   \n",
       "\n",
       "   cons_conf_idx  euribor3m  nr_employed  ...    day_of_week_fri  \\\n",
       "0          -36.4      4.857       5191.0  ...                  0   \n",
       "1          -36.4      4.857       5191.0  ...                  0   \n",
       "2          -36.4      4.857       5191.0  ...                  0   \n",
       "3          -36.4      4.857       5191.0  ...                  0   \n",
       "4          -36.4      4.857       5191.0  ...                  0   \n",
       "\n",
       "   day_of_week_mon  day_of_week_thu  day_of_week_tue  day_of_week_wed  \\\n",
       "0                1                0                0                0   \n",
       "1                1                0                0                0   \n",
       "2                1                0                0                0   \n",
       "3                1                0                0                0   \n",
       "4                1                0                0                0   \n",
       "\n",
       "   poutcome_failure  poutcome_nonexistent  poutcome_success  y_no  y_yes  \n",
       "0                 0                     1                 0     1      0  \n",
       "1                 0                     1                 0     1      0  \n",
       "2                 0                     1                 0     1      0  \n",
       "3                 0                     1                 0     1      0  \n",
       "4                 0                     1                 0     1      0  \n",
       "\n",
       "[5 rows x 65 columns]"
      ]
     },
     "execution_count": 7,
     "metadata": {},
     "output_type": "execute_result"
    }
   ],
   "source": [
    "# list(data) returns the column names as a list\n",
    "# Pandas get_dummies automatically converts every categorical variable to an equivalent one-hot encoding\n",
    "# We can do this for our dataset without hesitation because all our categorical variables are nominal \n",
    "# -- i.e., they don't have any rank ordering.\n",
    "# Note: this changes the ordering of the attributes in the dataframe\n",
    "data2 = pd.get_dummies(data[list(data)])\n",
    "data2.head()"
   ]
  },
  {
   "cell_type": "code",
   "execution_count": 8,
   "metadata": {
    "collapsed": false
   },
   "outputs": [
    {
     "data": {
      "text/html": [
       "<div>\n",
       "<table border=\"1\" class=\"dataframe\">\n",
       "  <thead>\n",
       "    <tr style=\"text-align: right;\">\n",
       "      <th></th>\n",
       "      <th>age</th>\n",
       "      <th>duration</th>\n",
       "      <th>campaign</th>\n",
       "      <th>pdays</th>\n",
       "      <th>previous</th>\n",
       "      <th>emp_var_rate</th>\n",
       "      <th>cons_price_idx</th>\n",
       "      <th>cons_conf_idx</th>\n",
       "      <th>euribor3m</th>\n",
       "      <th>nr_employed</th>\n",
       "      <th>...</th>\n",
       "      <th>month_sep</th>\n",
       "      <th>day_of_week_fri</th>\n",
       "      <th>day_of_week_mon</th>\n",
       "      <th>day_of_week_thu</th>\n",
       "      <th>day_of_week_tue</th>\n",
       "      <th>day_of_week_wed</th>\n",
       "      <th>poutcome_failure</th>\n",
       "      <th>poutcome_nonexistent</th>\n",
       "      <th>poutcome_success</th>\n",
       "      <th>y</th>\n",
       "    </tr>\n",
       "  </thead>\n",
       "  <tbody>\n",
       "    <tr>\n",
       "      <th>0</th>\n",
       "      <td>56</td>\n",
       "      <td>261</td>\n",
       "      <td>1</td>\n",
       "      <td>999</td>\n",
       "      <td>0</td>\n",
       "      <td>1.1</td>\n",
       "      <td>93.994</td>\n",
       "      <td>-36.4</td>\n",
       "      <td>4.857</td>\n",
       "      <td>5191.0</td>\n",
       "      <td>...</td>\n",
       "      <td>0</td>\n",
       "      <td>0</td>\n",
       "      <td>1</td>\n",
       "      <td>0</td>\n",
       "      <td>0</td>\n",
       "      <td>0</td>\n",
       "      <td>0</td>\n",
       "      <td>1</td>\n",
       "      <td>0</td>\n",
       "      <td>0</td>\n",
       "    </tr>\n",
       "    <tr>\n",
       "      <th>1</th>\n",
       "      <td>57</td>\n",
       "      <td>149</td>\n",
       "      <td>1</td>\n",
       "      <td>999</td>\n",
       "      <td>0</td>\n",
       "      <td>1.1</td>\n",
       "      <td>93.994</td>\n",
       "      <td>-36.4</td>\n",
       "      <td>4.857</td>\n",
       "      <td>5191.0</td>\n",
       "      <td>...</td>\n",
       "      <td>0</td>\n",
       "      <td>0</td>\n",
       "      <td>1</td>\n",
       "      <td>0</td>\n",
       "      <td>0</td>\n",
       "      <td>0</td>\n",
       "      <td>0</td>\n",
       "      <td>1</td>\n",
       "      <td>0</td>\n",
       "      <td>0</td>\n",
       "    </tr>\n",
       "    <tr>\n",
       "      <th>2</th>\n",
       "      <td>37</td>\n",
       "      <td>226</td>\n",
       "      <td>1</td>\n",
       "      <td>999</td>\n",
       "      <td>0</td>\n",
       "      <td>1.1</td>\n",
       "      <td>93.994</td>\n",
       "      <td>-36.4</td>\n",
       "      <td>4.857</td>\n",
       "      <td>5191.0</td>\n",
       "      <td>...</td>\n",
       "      <td>0</td>\n",
       "      <td>0</td>\n",
       "      <td>1</td>\n",
       "      <td>0</td>\n",
       "      <td>0</td>\n",
       "      <td>0</td>\n",
       "      <td>0</td>\n",
       "      <td>1</td>\n",
       "      <td>0</td>\n",
       "      <td>0</td>\n",
       "    </tr>\n",
       "    <tr>\n",
       "      <th>3</th>\n",
       "      <td>40</td>\n",
       "      <td>151</td>\n",
       "      <td>1</td>\n",
       "      <td>999</td>\n",
       "      <td>0</td>\n",
       "      <td>1.1</td>\n",
       "      <td>93.994</td>\n",
       "      <td>-36.4</td>\n",
       "      <td>4.857</td>\n",
       "      <td>5191.0</td>\n",
       "      <td>...</td>\n",
       "      <td>0</td>\n",
       "      <td>0</td>\n",
       "      <td>1</td>\n",
       "      <td>0</td>\n",
       "      <td>0</td>\n",
       "      <td>0</td>\n",
       "      <td>0</td>\n",
       "      <td>1</td>\n",
       "      <td>0</td>\n",
       "      <td>0</td>\n",
       "    </tr>\n",
       "    <tr>\n",
       "      <th>4</th>\n",
       "      <td>56</td>\n",
       "      <td>307</td>\n",
       "      <td>1</td>\n",
       "      <td>999</td>\n",
       "      <td>0</td>\n",
       "      <td>1.1</td>\n",
       "      <td>93.994</td>\n",
       "      <td>-36.4</td>\n",
       "      <td>4.857</td>\n",
       "      <td>5191.0</td>\n",
       "      <td>...</td>\n",
       "      <td>0</td>\n",
       "      <td>0</td>\n",
       "      <td>1</td>\n",
       "      <td>0</td>\n",
       "      <td>0</td>\n",
       "      <td>0</td>\n",
       "      <td>0</td>\n",
       "      <td>1</td>\n",
       "      <td>0</td>\n",
       "      <td>0</td>\n",
       "    </tr>\n",
       "  </tbody>\n",
       "</table>\n",
       "<p>5 rows × 64 columns</p>\n",
       "</div>"
      ],
      "text/plain": [
       "   age  duration  campaign  pdays  previous  emp_var_rate  cons_price_idx  \\\n",
       "0   56       261         1    999         0           1.1          93.994   \n",
       "1   57       149         1    999         0           1.1          93.994   \n",
       "2   37       226         1    999         0           1.1          93.994   \n",
       "3   40       151         1    999         0           1.1          93.994   \n",
       "4   56       307         1    999         0           1.1          93.994   \n",
       "\n",
       "   cons_conf_idx  euribor3m  nr_employed ...  month_sep  day_of_week_fri  \\\n",
       "0          -36.4      4.857       5191.0 ...          0                0   \n",
       "1          -36.4      4.857       5191.0 ...          0                0   \n",
       "2          -36.4      4.857       5191.0 ...          0                0   \n",
       "3          -36.4      4.857       5191.0 ...          0                0   \n",
       "4          -36.4      4.857       5191.0 ...          0                0   \n",
       "\n",
       "   day_of_week_mon  day_of_week_thu  day_of_week_tue  day_of_week_wed  \\\n",
       "0                1                0                0                0   \n",
       "1                1                0                0                0   \n",
       "2                1                0                0                0   \n",
       "3                1                0                0                0   \n",
       "4                1                0                0                0   \n",
       "\n",
       "   poutcome_failure  poutcome_nonexistent  poutcome_success  y  \n",
       "0                 0                     1                 0  0  \n",
       "1                 0                     1                 0  0  \n",
       "2                 0                     1                 0  0  \n",
       "3                 0                     1                 0  0  \n",
       "4                 0                     1                 0  0  \n",
       "\n",
       "[5 rows x 64 columns]"
      ]
     },
     "execution_count": 8,
     "metadata": {},
     "output_type": "execute_result"
    }
   ],
   "source": [
    "#Looks great except that we've one-hot encoded our outcome as well -- the dependent variable.\n",
    "#Let's fix that.\n",
    "data2['y'] = data2['y_yes'].map(lambda x: 1 if x > 0 else 0)\n",
    "del data2['y_no']\n",
    "del data2['y_yes']\n",
    "data2.head()"
   ]
  },
  {
   "cell_type": "markdown",
   "metadata": {},
   "source": [
    "## An Alternative Way to Convert the Outcome Variable into Numerical Values"
   ]
  },
  {
   "cell_type": "code",
   "execution_count": 9,
   "metadata": {
    "collapsed": false
   },
   "outputs": [
    {
     "data": {
      "text/plain": [
       "0    0\n",
       "1    0\n",
       "2    0\n",
       "3    0\n",
       "4    0\n",
       "dtype: int64"
      ]
     },
     "execution_count": 9,
     "metadata": {},
     "output_type": "execute_result"
    }
   ],
   "source": [
    "# The last column contains info on whether the person bought the product or not\n",
    "# The outcomes in the raw data are labeled 'yes' and 'no'.\n",
    "# Change them into numerical outcomes -- 0 for no and 1 for yes\n",
    "y = pd.Series([0 if val == 'no' else 1 for val in data.iloc[:,-1]])\n",
    "y.head()"
   ]
  },
  {
   "cell_type": "markdown",
   "metadata": {},
   "source": [
    "Let's use data2 as our dataset from now on."
   ]
  },
  {
   "cell_type": "markdown",
   "metadata": {},
   "source": [
    "## Get the Inputs and the Output\n",
    "\n",
    "We need the data in the form of arrays so we can compute using the inputs."
   ]
  },
  {
   "cell_type": "code",
   "execution_count": 10,
   "metadata": {
    "collapsed": false
   },
   "outputs": [],
   "source": [
    "# Get the input matrix and the output vector\n",
    "n_features = data2.shape[1]\n",
    "X, y = data2.iloc[:,0:n_features-1].values, data2.iloc[:, n_features-1].values"
   ]
  },
  {
   "cell_type": "markdown",
   "metadata": {},
   "source": [
    "## Rescale the Features\n",
    "\n",
    "Since our features are on scales that differ by orders of magnitude, it's essential to rescale them. This makes it possible to compute efficiently on the dataset."
   ]
  },
  {
   "cell_type": "code",
   "execution_count": 11,
   "metadata": {
    "collapsed": true
   },
   "outputs": [],
   "source": [
    "from sklearn.preprocessing import StandardScaler\n",
    "std_scaler = StandardScaler()\n",
    "X = std_scaler.fit_transform(X)"
   ]
  },
  {
   "cell_type": "markdown",
   "metadata": {},
   "source": [
    "## Feature Selection Techniques"
   ]
  },
  {
   "cell_type": "markdown",
   "metadata": {},
   "source": [
    "### Remove Repetitive Features - Ones that Don't Vary a Lot in the Dataset\n",
    "\n",
    "As explained in the SciKit Learn documentation, \"VarianceThreshold is a simple baseline approach to feature selection. It removes all features whose variance doesn’t meet some threshold. By default, it removes all zero-variance features, i.e. features that have the same value in all samples.\"\n",
    "\n",
    "Let's apply it to our dataset to see which features this might hold true of (if any)."
   ]
  },
  {
   "cell_type": "code",
   "execution_count": 12,
   "metadata": {
    "collapsed": false
   },
   "outputs": [
    {
     "data": {
      "text/plain": [
       "array([[  56.,  261.,    1., ...,    0.,    1.,    1.],\n",
       "       [  57.,  149.,    1., ...,    0.,    1.,    1.],\n",
       "       [  37.,  226.,    1., ...,    0.,    1.,    1.],\n",
       "       ..., \n",
       "       [  56.,  189.,    2., ...,    1.,    0.,    0.],\n",
       "       [  44.,  442.,    1., ...,    1.,    0.,    0.],\n",
       "       [  74.,  239.,    3., ...,    1.,    0.,    0.]])"
      ]
     },
     "execution_count": 12,
     "metadata": {},
     "output_type": "execute_result"
    }
   ],
   "source": [
    "# Remove any feature that is the same value in threshold% or more of the dataset\n",
    "# Scaling actually gets in the way of this -- so that's why we've used\n",
    "# std_scaler.inverse_transform below.\n",
    "from sklearn.feature_selection import VarianceThreshold\n",
    "threshold = 0.7 # Set to be any real between and including 0 and 1\n",
    "# The higher the threshold value, the fewer the number of removed features\n",
    "# Conversely, the lower the threshold value, the higher the number of removed features\n",
    "selector = VarianceThreshold(threshold=(threshold * (1 - threshold)))\n",
    "selector.fit_transform(std_scaler.inverse_transform(X))"
   ]
  },
  {
   "cell_type": "code",
   "execution_count": 13,
   "metadata": {
    "collapsed": false
   },
   "outputs": [
    {
     "name": "stdout",
     "output_type": "stream",
     "text": [
      "[ 0  1  2  3  4  5  6  7  8  9 23 37 39 43 44 51]\n"
     ]
    }
   ],
   "source": [
    "# Index values of the features that *do* vary and hence are useful to keep around\n",
    "idx_features_selected = selector.get_support(indices=True)\n",
    "print idx_features_selected"
   ]
  },
  {
   "cell_type": "code",
   "execution_count": 14,
   "metadata": {
    "collapsed": false
   },
   "outputs": [],
   "source": [
    "# Get all the column names in our dataset *except* for the outcome variable name\n",
    "col_names = list(data2.columns.values)[0:-1]"
   ]
  },
  {
   "cell_type": "code",
   "execution_count": 15,
   "metadata": {
    "collapsed": false
   },
   "outputs": [
    {
     "data": {
      "text/plain": [
       "['age',\n",
       " 'duration',\n",
       " 'campaign',\n",
       " 'pdays',\n",
       " 'previous',\n",
       " 'emp_var_rate',\n",
       " 'cons_price_idx',\n",
       " 'cons_conf_idx',\n",
       " 'euribor3m',\n",
       " 'nr_employed',\n",
       " 'marital_married',\n",
       " 'housing_no',\n",
       " 'housing_yes',\n",
       " 'contact_cellular',\n",
       " 'contact_telephone',\n",
       " 'month_may']"
      ]
     },
     "execution_count": 15,
     "metadata": {},
     "output_type": "execute_result"
    }
   ],
   "source": [
    "# Selected features by name\n",
    "names_features_selected = [col_names[i] for i in idx_features_selected]\n",
    "names_features_selected"
   ]
  },
  {
   "cell_type": "code",
   "execution_count": 16,
   "metadata": {
    "collapsed": false
   },
   "outputs": [
    {
     "data": {
      "text/plain": [
       "['job_admin.',\n",
       " 'education_professional.course',\n",
       " 'job_management',\n",
       " 'marital_unknown',\n",
       " 'marital_single',\n",
       " 'job_student',\n",
       " 'job_services',\n",
       " 'education_university.degree',\n",
       " 'education_basic.9y',\n",
       " 'education_high.school',\n",
       " 'marital_divorced',\n",
       " 'job_unemployed',\n",
       " 'month_sep',\n",
       " 'education_basic.4y',\n",
       " 'poutcome_failure',\n",
       " 'poutcome_nonexistent',\n",
       " 'default_no',\n",
       " 'job_housemaid',\n",
       " 'loan_unknown',\n",
       " 'day_of_week_thu',\n",
       " 'job_entrepreneur',\n",
       " 'day_of_week_tue',\n",
       " 'month_mar',\n",
       " 'poutcome_success',\n",
       " 'loan_yes',\n",
       " 'job_unknown',\n",
       " 'month_nov',\n",
       " 'month_oct',\n",
       " 'housing_unknown',\n",
       " 'job_retired',\n",
       " 'job_blue-collar',\n",
       " 'job_self-employed',\n",
       " 'education_basic.6y',\n",
       " 'month_jul',\n",
       " 'day_of_week_fri',\n",
       " 'month_aug',\n",
       " 'education_unknown',\n",
       " 'month_dec',\n",
       " 'day_of_week_wed',\n",
       " 'default_yes',\n",
       " 'education_illiterate',\n",
       " 'default_unknown',\n",
       " 'job_technician',\n",
       " 'day_of_week_mon',\n",
       " 'month_apr',\n",
       " 'loan_no',\n",
       " 'month_jun']"
      ]
     },
     "execution_count": 16,
     "metadata": {},
     "output_type": "execute_result"
    }
   ],
   "source": [
    "# Features not selected because they are the same value for more than 80% of the dataset\n",
    "names_features_not_selected = list(set(col_names) - set(names_features_selected))\n",
    "names_features_not_selected"
   ]
  },
  {
   "cell_type": "markdown",
   "metadata": {},
   "source": [
    "At the threshold value we set, we could do away with these features to make our dataset more manageable."
   ]
  },
  {
   "cell_type": "markdown",
   "metadata": {},
   "source": [
    "### L1 Regularization to Create Sparse Arrays"
   ]
  },
  {
   "cell_type": "markdown",
   "metadata": {},
   "source": [
    "Regularization is a technique for reducing the influence of each feature on determining the output. The technique of L1 regularization doubles as a feature selection technique because it results in many of the features having zero-valued coefficients. For more information about L1 regularization, have a look at Sebastian Raschka's *Python Machine Learning* pp.112-115."
   ]
  },
  {
   "cell_type": "code",
   "execution_count": 17,
   "metadata": {
    "collapsed": false
   },
   "outputs": [],
   "source": [
    "# Split the data into test and training data sets\n",
    "# NOTE: The features have already been scaled in X\n",
    "from sklearn.model_selection import train_test_split\n",
    "X_train, X_test, y_train, y_test = train_test_split(X, y, test_size=0.3, random_state=0)"
   ]
  },
  {
   "cell_type": "code",
   "execution_count": 18,
   "metadata": {
    "collapsed": false
   },
   "outputs": [
    {
     "data": {
      "text/plain": [
       "0.91075578370503973"
      ]
     },
     "execution_count": 18,
     "metadata": {},
     "output_type": "execute_result"
    }
   ],
   "source": [
    "# Fit a logistic regression model to X_train using an L1 \"penalty\"\n",
    "from sklearn.linear_model import LogisticRegression\n",
    "lr = LogisticRegression(penalty='l1', C=0.1)\n",
    "lr.fit(X_train, y_train)\n",
    "accuracy_train = lr.score(X_train, y_train)\n",
    "accuracy_train"
   ]
  },
  {
   "cell_type": "code",
   "execution_count": 19,
   "metadata": {
    "collapsed": false
   },
   "outputs": [
    {
     "data": {
      "text/plain": [
       "0.91187181354697744"
      ]
     },
     "execution_count": 19,
     "metadata": {},
     "output_type": "execute_result"
    }
   ],
   "source": [
    "accuracy_test = lr.score(X_test, y_test)\n",
    "accuracy_test"
   ]
  },
  {
   "cell_type": "code",
   "execution_count": 20,
   "metadata": {
    "collapsed": false
   },
   "outputs": [
    {
     "data": {
      "text/plain": [
       "array([[10673,   296],\n",
       "       [  793,   595]])"
      ]
     },
     "execution_count": 20,
     "metadata": {},
     "output_type": "execute_result"
    }
   ],
   "source": [
    "y_predict = lr.predict(X_test)\n",
    "confusion_matrix(y_test, y_predict)"
   ]
  },
  {
   "cell_type": "markdown",
   "metadata": {},
   "source": [
    "The training and test accuracy are both high and almost the same. This shows there's no overfitting. But we have to be cautious since we know the dataset is imbalanced -- there are few 1 outputs compared to the majority of 0 outputs.\n",
    "\n",
    "This makes it imperative to check other more meaningful measures of performance like precision and recall."
   ]
  },
  {
   "cell_type": "code",
   "execution_count": 21,
   "metadata": {
    "collapsed": false
   },
   "outputs": [
    {
     "data": {
      "text/plain": [
       "0.66778900112233441"
      ]
     },
     "execution_count": 21,
     "metadata": {},
     "output_type": "execute_result"
    }
   ],
   "source": [
    "precision_score(y_test, y_predict)"
   ]
  },
  {
   "cell_type": "code",
   "execution_count": 22,
   "metadata": {
    "collapsed": false
   },
   "outputs": [
    {
     "data": {
      "text/plain": [
       "0.42867435158501443"
      ]
     },
     "execution_count": 22,
     "metadata": {},
     "output_type": "execute_result"
    }
   ],
   "source": [
    "recall_score(y_test, y_predict)"
   ]
  },
  {
   "cell_type": "markdown",
   "metadata": {},
   "source": [
    "So far so good. Which features have been eliminated by the L1 regularization?"
   ]
  },
  {
   "cell_type": "code",
   "execution_count": 23,
   "metadata": {
    "collapsed": false
   },
   "outputs": [
    {
     "data": {
      "text/plain": [
       "array([[ 0.        ,  1.19513906, -0.10410033, -0.22487629, -0.02393641,\n",
       "        -1.58652174,  0.73692563,  0.09859054,  0.07657981,  0.        ,\n",
       "         0.        , -0.11451253,  0.00379943,  0.00608282,  0.03048716,\n",
       "         0.05097291, -0.01269998, -0.03190931,  0.03055049,  0.        ,\n",
       "         0.00368054, -0.01409594, -0.0084996 ,  0.        ,  0.01055915,\n",
       "         0.        , -0.00415418,  0.00506497,  0.        , -0.01022304,\n",
       "         0.01785371,  0.        ,  0.03895256,  0.01537151,  0.09225374,\n",
       "         0.        ,  0.        ,  0.00163182, -0.01266467,  0.        ,\n",
       "         0.02266411, -0.00519866,  0.        ,  0.06910765, -0.13785079,\n",
       "         0.        ,  0.2154459 ,  0.01693482,  0.08634572, -0.02206277,\n",
       "         0.19960585, -0.25688178, -0.07664211,  0.02425002,  0.01650229,\n",
       "        -0.07587359, -0.07456245,  0.        ,  0.01077268,  0.        ,\n",
       "        -0.13313488,  0.        ,  0.05075317]])"
      ]
     },
     "execution_count": 23,
     "metadata": {},
     "output_type": "execute_result"
    }
   ],
   "source": [
    "# Optimally chosen parameter values -- the ones that best fit the model\n",
    "# Zero values show that the corresponding feature has been eliminated\n",
    "lr.coef_"
   ]
  },
  {
   "cell_type": "code",
   "execution_count": 24,
   "metadata": {
    "collapsed": false
   },
   "outputs": [
    {
     "data": {
      "text/plain": [
       "(array([ 1,  2,  3,  4,  5,  6,  7,  8, 11, 12, 13, 14, 15, 16, 17, 18, 20,\n",
       "        21, 22, 24, 26, 27, 29, 30, 32, 33, 34, 37, 38, 40, 41, 43, 44, 46,\n",
       "        47, 48, 49, 50, 51, 52, 53, 54, 55, 56, 58, 60, 62]),\n",
       " array([ 0,  9, 10, 19, 23, 25, 28, 31, 35, 36, 39, 42, 45, 57, 59, 61]))"
      ]
     },
     "execution_count": 24,
     "metadata": {},
     "output_type": "execute_result"
    }
   ],
   "source": [
    "# Which features are eliminated? \n",
    "idx_selected = np.where(lr.coef_ != 0)[1]\n",
    "idx_not_selected = np.where(lr.coef_ == 0)[1]\n",
    "idx_selected, idx_not_selected"
   ]
  },
  {
   "cell_type": "code",
   "execution_count": 25,
   "metadata": {
    "collapsed": false
   },
   "outputs": [
    {
     "data": {
      "text/plain": [
       "(['duration',\n",
       "  'campaign',\n",
       "  'pdays',\n",
       "  'previous',\n",
       "  'emp_var_rate',\n",
       "  'cons_price_idx',\n",
       "  'cons_conf_idx',\n",
       "  'euribor3m',\n",
       "  'job_blue-collar',\n",
       "  'job_entrepreneur',\n",
       "  'job_housemaid',\n",
       "  'job_management',\n",
       "  'job_retired',\n",
       "  'job_self-employed',\n",
       "  'job_services',\n",
       "  'job_student',\n",
       "  'job_unemployed',\n",
       "  'job_unknown',\n",
       "  'marital_divorced',\n",
       "  'marital_single',\n",
       "  'education_basic.4y',\n",
       "  'education_basic.6y',\n",
       "  'education_high.school',\n",
       "  'education_illiterate',\n",
       "  'education_university.degree',\n",
       "  'education_unknown',\n",
       "  'default_no',\n",
       "  'housing_no',\n",
       "  'housing_unknown',\n",
       "  'loan_no',\n",
       "  'loan_unknown',\n",
       "  'contact_cellular',\n",
       "  'contact_telephone',\n",
       "  'month_aug',\n",
       "  'month_dec',\n",
       "  'month_jul',\n",
       "  'month_jun',\n",
       "  'month_mar',\n",
       "  'month_may',\n",
       "  'month_nov',\n",
       "  'month_oct',\n",
       "  'month_sep',\n",
       "  'day_of_week_fri',\n",
       "  'day_of_week_mon',\n",
       "  'day_of_week_tue',\n",
       "  'poutcome_failure',\n",
       "  'poutcome_success'],\n",
       " ['age',\n",
       "  'nr_employed',\n",
       "  'job_admin.',\n",
       "  'job_technician',\n",
       "  'marital_married',\n",
       "  'marital_unknown',\n",
       "  'education_basic.9y',\n",
       "  'education_professional.course',\n",
       "  'default_unknown',\n",
       "  'default_yes',\n",
       "  'housing_yes',\n",
       "  'loan_yes',\n",
       "  'month_apr',\n",
       "  'day_of_week_thu',\n",
       "  'day_of_week_wed',\n",
       "  'poutcome_nonexistent'])"
      ]
     },
     "execution_count": 25,
     "metadata": {},
     "output_type": "execute_result"
    }
   ],
   "source": [
    "feat_selected = [col_names[i] for i in idx_selected]\n",
    "feat_not_selected = [col_names[i] for i in idx_not_selected]\n",
    "feat_selected, feat_not_selected"
   ]
  },
  {
   "cell_type": "markdown",
   "metadata": {},
   "source": [
    "So a whole bunch of columns can be eliminated including some surprising ones like age, whether the person has defaulted on a previous loan, etc. And by the way, calling on a Wednesday or Thursday seems pointless!"
   ]
  },
  {
   "cell_type": "markdown",
   "metadata": {},
   "source": [
    "### Recursive Feature Elimination"
   ]
  },
  {
   "cell_type": "markdown",
   "metadata": {
    "collapsed": true
   },
   "source": [
    "As Jason Brownlee explains, \"Recursive Feature Elimination (RFE) works by recursively removing attributes and building a model on those attributes that remain.\" (machinelearningmastery.com/feature-selection-machine-learning-python/)\n",
    "\n",
    "When we use RFE we specify the number of features we'd like to keep. So how about keeping the top 10 features?"
   ]
  },
  {
   "cell_type": "code",
   "execution_count": 26,
   "metadata": {
    "collapsed": false
   },
   "outputs": [
    {
     "name": "stdout",
     "output_type": "stream",
     "text": [
      "Num Features: 10\n",
      "Selected Features: [False  True False  True False  True  True False  True  True False False\n",
      " False False False False False False False False False False False False\n",
      " False False False False False False False False False False False False\n",
      " False False False False False False False False  True False  True False\n",
      " False False  True  True False False False False False False False False\n",
      " False False False]\n",
      "Feature Ranking: [37  1  7  1 18  1  1  9  1  1 26  5 27 28 19 15 44 43 17 25 29 40 39 41 52\n",
      " 53 47 38 48 46 33 50 14 36  8 16 30 51 32 54 20 42 45  6  1 49  1 35 21  4\n",
      "  1  1  2 34 31 10 11 23 22 24  3 13 12]\n"
     ]
    }
   ],
   "source": [
    "# Feature extraction using RFE\n",
    "from sklearn.feature_selection import RFE\n",
    "model = LogisticRegression()\n",
    "rfe = RFE(model, 10)\n",
    "fit = rfe.fit(X_train, y_train)\n",
    "print(\"Num Features: %d\") % fit.n_features_\n",
    "print(\"Selected Features: %s\") % fit.support_\n",
    "print(\"Feature Ranking: %s\") % fit.ranking_"
   ]
  },
  {
   "cell_type": "markdown",
   "metadata": {
    "collapsed": true
   },
   "source": [
    "The features ranked with a 1 are the top features selected. Let's find out which features these are."
   ]
  },
  {
   "cell_type": "code",
   "execution_count": 27,
   "metadata": {
    "collapsed": false
   },
   "outputs": [
    {
     "data": {
      "text/plain": [
       "numpy.ndarray"
      ]
     },
     "execution_count": 27,
     "metadata": {},
     "output_type": "execute_result"
    }
   ],
   "source": [
    "type(fit.ranking_)"
   ]
  },
  {
   "cell_type": "code",
   "execution_count": 28,
   "metadata": {
    "collapsed": false
   },
   "outputs": [
    {
     "data": {
      "text/plain": [
       "['duration',\n",
       " 'pdays',\n",
       " 'emp_var_rate',\n",
       " 'cons_price_idx',\n",
       " 'euribor3m',\n",
       " 'nr_employed',\n",
       " 'contact_telephone',\n",
       " 'month_aug',\n",
       " 'month_mar',\n",
       " 'month_may']"
      ]
     },
     "execution_count": 28,
     "metadata": {},
     "output_type": "execute_result"
    }
   ],
   "source": [
    "feat_top = [col_names[i] for i in np.where(fit.ranking_ == 1)[0].tolist()]\n",
    "# idx_list = idx[0].tolist()\n",
    "#idx_list\n",
    "feat_top"
   ]
  },
  {
   "cell_type": "markdown",
   "metadata": {
    "collapsed": true
   },
   "source": [
    "That's interesting! The longer the call duration the higher the chance of a sale. Economic conditions play a big role. So does being contacted at a land line rather than a cell phone. And finally, the months of March, May, and August seem to be the months to call. "
   ]
  },
  {
   "cell_type": "markdown",
   "metadata": {},
   "source": [
    "### Ranking Feature Importance Using Random Forests"
   ]
  },
  {
   "cell_type": "markdown",
   "metadata": {
    "collapsed": true
   },
   "source": [
    "Here we just have the code -- please see Sebastian Raschka's *Python Machine Learning* (pp. 80-92 and 124-126) for an explanation of decision trees and the random forests built from them."
   ]
  },
  {
   "cell_type": "code",
   "execution_count": 29,
   "metadata": {
    "collapsed": false
   },
   "outputs": [
    {
     "data": {
      "text/plain": [
       "RandomForestClassifier(bootstrap=True, class_weight=None, criterion='gini',\n",
       "            max_depth=None, max_features='auto', max_leaf_nodes=None,\n",
       "            min_impurity_split=1e-07, min_samples_leaf=1,\n",
       "            min_samples_split=2, min_weight_fraction_leaf=0.0,\n",
       "            n_estimators=10000, n_jobs=-1, oob_score=False, random_state=0,\n",
       "            verbose=0, warm_start=False)"
      ]
     },
     "execution_count": 29,
     "metadata": {},
     "output_type": "execute_result"
    }
   ],
   "source": [
    "# Code is from Raschka (pp.125-125)\n",
    "from sklearn.ensemble import RandomForestClassifier\n",
    "forest = RandomForestClassifier(n_estimators=10000, random_state=0, n_jobs=-1)\n",
    "forest.fit(X_train, y_train)"
   ]
  },
  {
   "cell_type": "code",
   "execution_count": 30,
   "metadata": {
    "collapsed": false
   },
   "outputs": [],
   "source": [
    "importances = forest.feature_importances_"
   ]
  },
  {
   "cell_type": "code",
   "execution_count": 31,
   "metadata": {
    "collapsed": false
   },
   "outputs": [
    {
     "data": {
      "text/plain": [
       "([<matplotlib.axis.XTick at 0x1138aec90>,\n",
       "  <matplotlib.axis.XTick at 0x11388ab10>,\n",
       "  <matplotlib.axis.XTick at 0x113892b10>,\n",
       "  <matplotlib.axis.XTick at 0x1de31fc50>,\n",
       "  <matplotlib.axis.XTick at 0x1fe42b3d0>,\n",
       "  <matplotlib.axis.XTick at 0x1fe42bb10>,\n",
       "  <matplotlib.axis.XTick at 0x1fe436290>,\n",
       "  <matplotlib.axis.XTick at 0x1fe4369d0>,\n",
       "  <matplotlib.axis.XTick at 0x1fe43f150>,\n",
       "  <matplotlib.axis.XTick at 0x1fe43f890>,\n",
       "  <matplotlib.axis.XTick at 0x1fe43ffd0>,\n",
       "  <matplotlib.axis.XTick at 0x1fe448750>,\n",
       "  <matplotlib.axis.XTick at 0x1fe448e90>,\n",
       "  <matplotlib.axis.XTick at 0x1fe451610>,\n",
       "  <matplotlib.axis.XTick at 0x1fe451d50>,\n",
       "  <matplotlib.axis.XTick at 0x1fe45b4d0>,\n",
       "  <matplotlib.axis.XTick at 0x1fe45bc10>,\n",
       "  <matplotlib.axis.XTick at 0x1fe464390>,\n",
       "  <matplotlib.axis.XTick at 0x1fe464ad0>,\n",
       "  <matplotlib.axis.XTick at 0x21943f250>,\n",
       "  <matplotlib.axis.XTick at 0x21943f990>,\n",
       "  <matplotlib.axis.XTick at 0x219449110>,\n",
       "  <matplotlib.axis.XTick at 0x219449850>,\n",
       "  <matplotlib.axis.XTick at 0x219449f90>,\n",
       "  <matplotlib.axis.XTick at 0x219451710>,\n",
       "  <matplotlib.axis.XTick at 0x219451e50>,\n",
       "  <matplotlib.axis.XTick at 0x21945b5d0>,\n",
       "  <matplotlib.axis.XTick at 0x21945bd10>,\n",
       "  <matplotlib.axis.XTick at 0x219464490>,\n",
       "  <matplotlib.axis.XTick at 0x219464bd0>,\n",
       "  <matplotlib.axis.XTick at 0x21946d350>,\n",
       "  <matplotlib.axis.XTick at 0x21946da90>,\n",
       "  <matplotlib.axis.XTick at 0x219475210>,\n",
       "  <matplotlib.axis.XTick at 0x219475950>,\n",
       "  <matplotlib.axis.XTick at 0x137957290>,\n",
       "  <matplotlib.axis.XTick at 0x1138bc590>,\n",
       "  <matplotlib.axis.XTick at 0x137946790>,\n",
       "  <matplotlib.axis.XTick at 0x13792cad0>,\n",
       "  <matplotlib.axis.XTick at 0x134045d50>,\n",
       "  <matplotlib.axis.XTick at 0x113888810>,\n",
       "  <matplotlib.axis.XTick at 0x15b91b6d0>,\n",
       "  <matplotlib.axis.XTick at 0x11388a190>,\n",
       "  <matplotlib.axis.XTick at 0x155d1e510>,\n",
       "  <matplotlib.axis.XTick at 0x1138aebd0>,\n",
       "  <matplotlib.axis.XTick at 0x11388f090>,\n",
       "  <matplotlib.axis.XTick at 0x11abbc3d0>,\n",
       "  <matplotlib.axis.XTick at 0x113867b50>,\n",
       "  <matplotlib.axis.XTick at 0x113861bd0>,\n",
       "  <matplotlib.axis.XTick at 0x1138a3a10>,\n",
       "  <matplotlib.axis.XTick at 0x1138a8a50>,\n",
       "  <matplotlib.axis.XTick at 0x219475f10>,\n",
       "  <matplotlib.axis.XTick at 0x21b084690>,\n",
       "  <matplotlib.axis.XTick at 0x21b084dd0>,\n",
       "  <matplotlib.axis.XTick at 0x21b08b550>,\n",
       "  <matplotlib.axis.XTick at 0x21b08bc90>,\n",
       "  <matplotlib.axis.XTick at 0x21b094410>,\n",
       "  <matplotlib.axis.XTick at 0x21b094b50>,\n",
       "  <matplotlib.axis.XTick at 0x21b09e2d0>,\n",
       "  <matplotlib.axis.XTick at 0x21b09ea10>,\n",
       "  <matplotlib.axis.XTick at 0x21b0a6190>,\n",
       "  <matplotlib.axis.XTick at 0x21b0a68d0>,\n",
       "  <matplotlib.axis.XTick at 0x21b0af050>,\n",
       "  <matplotlib.axis.XTick at 0x21b0af790>],\n",
       " <a list of 63 Text xticklabel objects>)"
      ]
     },
     "execution_count": 31,
     "metadata": {},
     "output_type": "execute_result"
    },
    {
     "data": {
      "image/png": "[encoded data removed]",
      "text/plain": [
       "<matplotlib.figure.Figure at 0x1138921d0>"
      ]
     },
     "metadata": {},
     "output_type": "display_data"
    }
   ],
   "source": [
    "fig, ax = plt.subplots(figsize=(16,8))\n",
    "plt.bar(range(X_train.shape[1]), importances, align='center')\n",
    "plt.title('The Relative Importance of Features')\n",
    "plt.xticks(range(X_train.shape[1]))\n",
    "#plt.figure(figsize=(16,8))"
   ]
  },
  {
   "cell_type": "markdown",
   "metadata": {
    "collapsed": true
   },
   "source": [
    "Let's see which features have an outsized impact:"
   ]
  },
  {
   "cell_type": "code",
   "execution_count": 32,
   "metadata": {
    "collapsed": false
   },
   "outputs": [
    {
     "data": {
      "text/plain": [
       "['age',\n",
       " 'duration',\n",
       " 'campaign',\n",
       " 'pdays',\n",
       " 'emp_var_rate',\n",
       " 'cons_price_idx',\n",
       " 'cons_conf_idx',\n",
       " 'euribor3m',\n",
       " 'nr_employed',\n",
       " 'poutcome_success']"
      ]
     },
     "execution_count": 32,
     "metadata": {},
     "output_type": "execute_result"
    }
   ],
   "source": [
    "# Supply the feature number and the name of the feature is revealed\n",
    "[col_names[i] for i in [0,1,2,3,5,6,7,8,9,62]]"
   ]
  },
  {
   "cell_type": "markdown",
   "metadata": {},
   "source": [
    "We find that different features are highlighted or discarded by the feature selection techniques. That's what makes feature selection and model building an art as well as a science."
   ]
  },
  {
   "cell_type": "markdown",
   "metadata": {},
   "source": [
    "Check out the following links for more ideas on feature selection. \n",
    "- http://machinelearningmastery.com/feature-selection-machine-learning-python/ (Jason Brownlee)\n",
    "- http://scikit-learn.org/stable/modules/feature_selection.html (SciKit Learn documentation)\n",
    "- http://scikit-learn.org/stable/modules/generated/sklearn.pipeline.Pipeline.html#sklearn.pipeline.Pipeline (SciKit Learn documentation)"
   ]
  }
 ],
 "metadata": {
  "anaconda-cloud": {},
  "kernelspec": {
   "display_name": "Python [conda root]",
   "language": "python",
   "name": "conda-root-py"
  },
  "language_info": {
   "codemirror_mode": {
    "name": "ipython",
    "version": 2
   },
   "file_extension": ".py",
   "mimetype": "text/x-python",
   "name": "python",
   "nbconvert_exporter": "python",
   "pygments_lexer": "ipython2",
   "version": "2.7.13"
  }
 },
 "nbformat": 4,
 "nbformat_minor": 1
}
